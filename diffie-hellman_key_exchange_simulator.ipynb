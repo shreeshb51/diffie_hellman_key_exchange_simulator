{
 "cells": [
  {
   "cell_type": "markdown",
   "id": "35b8c4fb-9e9f-45db-8b7e-6c74cbdb2a6d",
   "metadata": {},
   "source": [
    "# Diffie-Hellman Key Exchange Simulator\n",
    "## Implementing DF Key Exchange to demonstrate secure key exchange using:\n",
    "    1. Miller-Rabin primality testing for prime verification,\n",
    "    2. Efficient primitive root discovery using Carmichael's theorem,\n",
    "    3. Complete protocol simulation with interception testing."
   ]
  },
  {
   "cell_type": "code",
   "execution_count": 1,
   "id": "b00e8826-5e97-4374-b0af-9bdaf6c7df15",
   "metadata": {},
   "outputs": [],
   "source": [
    "# Prerequisites\n",
    "import math\n",
    "import random\n",
    "from math import gcd\n",
    "from functools import lru_cache\n",
    "from typing import List, Set, Tuple\n",
    "from dataclasses import dataclass"
   ]
  },
  {
   "cell_type": "code",
   "execution_count": 2,
   "id": "141a9c56-5ab8-4212-8528-140cb0458aac",
   "metadata": {},
   "outputs": [],
   "source": [
    "# Constants for cryptographic safety\n",
    "MIN_DIGITS = 2\n",
    "MAX_DIGITS = 6\n",
    "MILLER_RABIN_ROUNDS = 40"
   ]
  },
  {
   "cell_type": "code",
   "execution_count": 3,
   "id": "2b0f6738-f6bb-4dbd-a4be-4ab64208987c",
   "metadata": {},
   "outputs": [],
   "source": [
    "\"\"\"Creating class to bundle Diffie-Hellman parameters safely\"\"\"\n",
    "@dataclass\n",
    "class DHParameters:\n",
    "    \"\"\"Container for all Diffie-Hellman parameters\"\"\"\n",
    "    prime: int\n",
    "    primitive_root: int\n",
    "    ram_private: int = None\n",
    "    shyam_private: int = None\n",
    "\n",
    "    def validate(self) -> bool:\n",
    "        return (miller_rabin(self.prime) and \n",
    "               is_primitive_root(self.primitive_root, self.prime))"
   ]
  },
  {
   "cell_type": "code",
   "execution_count": 4,
   "id": "f8fa117a-eee6-4291-aa38-7cba3fff03b3",
   "metadata": {},
   "outputs": [],
   "source": [
    "\"\"\"\n",
    "Implementing the Miller-Rabin primality test with:\n",
    "- Deterministic checks for numbers < 2^64\n",
    "- 40 rounds of testing by default\n",
    "- Optimized witness selection\n",
    "\"\"\"\n",
    "def miller_rabin(n: int, k: int = MILLER_RABIN_ROUNDS) -> bool:\n",
    "    if n < 2:\n",
    "        return False\n",
    "    for p in [2, 3, 5, 7, 11, 13, 17, 19, 23, 29, 31, 37]:\n",
    "        if n % p == 0:\n",
    "            return n == p\n",
    "\n",
    "    d, s = n - 1, 0\n",
    "    while d % 2 == 0:\n",
    "        d //= 2\n",
    "        s += 1\n",
    "\n",
    "    for _ in range(k):\n",
    "        a = random.randint(2, n - 2)\n",
    "        x = pow(a, d, n)\n",
    "        if x == 1 or x == n - 1:\n",
    "            continue\n",
    "        for __ in range(s - 1):\n",
    "            x = pow(x, 2, n)\n",
    "            if x == n - 1:\n",
    "                break\n",
    "        else:\n",
    "            return False\n",
    "    return True"
   ]
  },
  {
   "cell_type": "code",
   "execution_count": 5,
   "id": "aff84d1b-bca5-49ea-bb4e-42351868e3d2",
   "metadata": {},
   "outputs": [],
   "source": [
    "\"\"\"\n",
    "Finding prime factors using trial division with:\n",
    "- Memoization to cache results\n",
    "- Early termination when possible\n",
    "- Wheel factorization for Harins\n",
    "\"\"\"\n",
    "@lru_cache(maxsize=128)\n",
    "def prime_factors(n: int) -> Set[int]:\n",
    "    factors = set()\n",
    "    while n % 2 == 0:\n",
    "        factors.add(2)\n",
    "        n //= 2\n",
    "    i = 3\n",
    "    while i * i <= n:\n",
    "        while n % i == 0:\n",
    "            factors.add(i)\n",
    "            n //= i\n",
    "        i += 2\n",
    "    if n > 2:\n",
    "        factors.add(n)\n",
    "    return factors"
   ]
  },
  {
   "cell_type": "code",
   "execution_count": 6,
   "id": "5c1a95af-b41b-40eb-84bb-d08cc1f606d1",
   "metadata": {},
   "outputs": [],
   "source": [
    "\"\"\"\n",
    "Checking for primitive roots using:\n",
    "- Carmichael's theorem optimization\n",
    "- Precomputed prime factors of φ(p)\n",
    "- Efficient modular exponentiation\n",
    "\"\"\"\n",
    "def is_primitive_root(g: int, p: int) -> bool:\n",
    "    if gcd(g, p) != 1:\n",
    "        return False\n",
    "    phi = p - 1\n",
    "    factors = prime_factors(phi)\n",
    "    return all(pow(g, phi // f, p) != 1 for f in factors)"
   ]
  },
  {
   "cell_type": "code",
   "execution_count": 7,
   "id": "4799f727-2b49-4d70-8d69-574615235f5a",
   "metadata": {},
   "outputs": [],
   "source": [
    "\"\"\"\n",
    "Discovering primitive roots by:\n",
    "- First verifying p is prime\n",
    "- Checking candidates in smart order\n",
    "- Using early termination when possible\n",
    "\"\"\"\n",
    "def find_primitive_roots(p: int) -> List[int]:\n",
    "    if not miller_rabin(p):\n",
    "        return []\n",
    "    \n",
    "    # Checking small numbers first for efficiency\n",
    "    candidates = list(range(1, min(p, 100)))\n",
    "    if p > 100:\n",
    "        candidates += random.sample(range(100, p), min(100, p-100))\n",
    "    \n",
    "    return [g for g in candidates if is_primitive_root(g, p)]"
   ]
  },
  {
   "cell_type": "code",
   "execution_count": 8,
   "id": "f5e45d35-ea44-4ada-a306-6b83fdbb7490",
   "metadata": {},
   "outputs": [],
   "source": [
    "\"\"\"Ensure to select a valid primitive root from the list\"\"\"\n",
    "def get_primitive_root(p: int, roots: List[int]) -> int:\n",
    "    print(f\"\\nPrimitive roots for {p}:\")\n",
    "    print(roots[:16], \"...\" if len(roots) > 16 else \"\")\n",
    "    while True:\n",
    "        try:\n",
    "            choice = int(input(f\"Choose primitive root: \"))\n",
    "            if choice in roots:\n",
    "                return choice\n",
    "            print(f\"Error: {choice} is not a primitive root. Please choose from the list.\")\n",
    "            print(\"Valid roots:\", roots[:16], \"...\")\n",
    "        except ValueError:\n",
    "            print(\"Invalid input. Please enter a number.\")"
   ]
  },
  {
   "cell_type": "code",
   "execution_count": 9,
   "id": "0cfaf715-f83d-44c6-8200-2dd905bbf003",
   "metadata": {},
   "outputs": [],
   "source": [
    "\"\"\"\n",
    "Safely getting user input by:\n",
    "- Validating numeric ranges\n",
    "- Providing clear error messages\n",
    "- Handling type conversion safely\n",
    "\"\"\"\n",
    "def get_valid_input(prompt: str, min_val: int, max_val: int) -> int:\n",
    "    while True:\n",
    "        try:\n",
    "            val = int(input(prompt))\n",
    "            if min_val <= val <= max_val:\n",
    "                return val\n",
    "            print(f\"Please enter between {min_val}-{max_val}\")\n",
    "        except ValueError:\n",
    "            print(\"Invalid number. Please try again.\")"
   ]
  },
  {
   "cell_type": "code",
   "execution_count": 10,
   "id": "11b835c5-afce-4c65-b975-289dc2b5a70b",
   "metadata": {},
   "outputs": [],
   "source": [
    "\"\"\"\n",
    "Users select primes by:\n",
    "- Showing sample primes for the digit length\n",
    "- Allowing custom prime entry\n",
    "- Validating all inputs thoroughly\n",
    "\"\"\"\n",
    "def get_prime_candidate(n: int) -> int:\n",
    "    min_val = 10**(n-1)\n",
    "    max_val = 10**n - 1\n",
    "    \n",
    "    print(f\"\\nFinding {n}-digit primes...\")\n",
    "    primes = [num for num in range(min_val, max_val + 1) if miller_rabin(num)][:10]\n",
    "    \n",
    "    if primes:\n",
    "        print(\"\\nSample primes:\")\n",
    "        for i, p in enumerate(primes, 1):\n",
    "            print(f\"{i}. {p}\")\n",
    "    \n",
    "    while True:\n",
    "        try:\n",
    "            choice = input(f\"\\nChoose prime (1-{len(primes)}) or enter custom: \")\n",
    "            if choice.isdigit() and 1 <= int(choice) <= len(primes):\n",
    "                return primes[int(choice)-1]\n",
    "            \n",
    "            p = int(choice)\n",
    "            if not (min_val <= p <= max_val):\n",
    "                print(f\"Must be {n}-digit number\")\n",
    "                continue\n",
    "            if miller_rabin(p):\n",
    "                return p\n",
    "            print(\"Not prime. Try again.\")\n",
    "        except ValueError:\n",
    "            print(\"Invalid input. Please try again.\")"
   ]
  },
  {
   "cell_type": "code",
   "execution_count": 11,
   "id": "03e396fe-e3c9-40b3-9e60-159fc8998bde",
   "metadata": {},
   "outputs": [],
   "source": [
    "\"\"\"\n",
    "Executing the core DH protocol by:\n",
    "- Taking user input for private keys\n",
    "- Calculating public keys safely\n",
    "- Verifying shared secret matches\n",
    "\"\"\"\n",
    "def perform_key_exchange(params: DHParameters) -> Tuple[int, int, int, int]:\n",
    "    print(\"\\n=== Private Keys ===\")\n",
    "    params.ram_private = get_valid_input(f\"Enter Ram's key (1-{params.prime-2}): \", 1, params.prime-2)\n",
    "    params.shyam_private = get_valid_input(f\"Enter Shyam's key (1-{params.prime-2}): \", 1, params.prime-2)\n",
    "    \n",
    "    y1 = pow(params.primitive_root, params.ram_private, params.prime)\n",
    "    y2 = pow(params.primitive_root, params.shyam_private, params.prime)\n",
    "    \n",
    "    k1 = pow(y2, params.ram_private, params.prime)\n",
    "    k2 = pow(y1, params.shyam_private, params.prime)\n",
    "    \n",
    "    return y1, y2, k1, k2"
   ]
  },
  {
   "cell_type": "code",
   "execution_count": 12,
   "id": "3a7a862c-62a0-4083-a6fd-b60488c429bd",
   "metadata": {},
   "outputs": [],
   "source": [
    "\"\"\"\n",
    "Demonstrating Man In The Middle (MITM) vulnerability by:\n",
    "- Taking attacker's key input\n",
    "- Showing forged key attempts\n",
    "- Comparing with real shared secret\n",
    "\"\"\"\n",
    "def simulate_interception(params: DHParameters, y1: int, y2: int) -> None:\n",
    "    if params.ram_private is None or params.shyam_private is None:\n",
    "        raise ValueError(\"Private keys not initialized\")\n",
    "    \n",
    "    print(\"\\n=== Interception Attempt ===\")\n",
    "    h = get_valid_input(f\"Enter Hari's key (1-{params.prime-2}): \", 1, params.prime-2)\n",
    "    \n",
    "    forged_key = pow(params.primitive_root, h, params.prime)   \n",
    "    print(f\"\\nHari intercepts and sends forged key, i.e. {forged_key}, to both Ram and Shyam.\\n\")\n",
    "    \n",
    "    # Ram and Shyam compute secrets using the forged key\n",
    "    ram_compromised_secret = pow(forged_key, params.ram_private, params.prime)\n",
    "    print(f\"Ram computes {ram_compromised_secret} as secret using the forged key.\")\n",
    "    shyam_compromised_secret = pow(forged_key, params.shyam_private, params.prime)\n",
    "    print(f\"Shyam computes {shyam_compromised_secret} as secret using the forged key.\")\n",
    "\n",
    "    # Hari computes the same secrets from intercepted public keys\n",
    "    intercepted_ram_secret = pow(y1, h, params.prime)\n",
    "    intercepted_shyam_secret = pow(y2, h, params.prime)\n",
    "    print(f\"\\nHari computes {intercepted_ram_secret} as Ram's secret and {intercepted_shyam_secret} as Shyams's secret using the forged key.\")\n",
    "\n",
    "    # Verification\n",
    "    if ram_compromised_secret == shyam_compromised_secret:\n",
    "        print(\"The forged key makes both victims - Ram and Shyam - compute same 'compromised' shared secret.\")\n",
    "        \n",
    "        if ram_compromised_secret == shyam_compromised_secret == intercepted_ram_secret == intercepted_shyam_secret:\n",
    "            print(\"Hari computes the same secret using Ram’s and Shyams’s public keys.\")\n",
    "            print(f\"All parties (Ram, Shyam, and Hari) agree on the same compromised secret: {ram_compromised_secret}\")\n",
    "            print(\"The attack from Hari succeeds, and Ram and Shyam remain unaware of Hari’s presence.\")\n",
    "            print(\"Then Hari can decrypt and re-encrypt messages and neither Ram nor Shyam may notice the tampering.\")\n",
    "            print(\"Hence, Interception by Hari is successful!\")\n",
    "        else:\n",
    "            print(\"Something is wrong! Please check the Diffie-Hellman Key Exchange Algorithm thoroughly and modify make adjustment to the code accordingly.\")\n",
    "    else:\n",
    "        print(\"The forged key leads Ram and Shyam to compute different shared secrets.\")\n",
    "        print(\"Still neither Ram nor Shyam is aware that they are communicating through Hari.\")\n",
    "        print(\"The core vulnerability lies in the lack of authentication.\")\n",
    "        print(\"Without authentication of the parties involved, Hari can easily impersonate one of the parties and establish separate keys with both.\")\n",
    "        print(\"This allows him to intercept and manipulate and tamper with the communications.\")\n",
    "        print(\"However, this mismatch in shared secrets still could cause errors in encryption and decryption, making Ram and Shyam suspect of an attack.\")\n",
    "        print(\"\\nHence, Interception by Hari MAY fail!\")"
   ]
  },
  {
   "cell_type": "code",
   "execution_count": 13,
   "id": "4dc17fff-c0dd-4e6f-89be-d72742088902",
   "metadata": {},
   "outputs": [
    {
     "name": "stdout",
     "output_type": "stream",
     "text": [
      "\n",
      "=== Diffie-Hellman Key Exchange ===\n"
     ]
    },
    {
     "name": "stdin",
     "output_type": "stream",
     "text": [
      "\n",
      "Enter prime digits (2-6):  2\n"
     ]
    },
    {
     "name": "stdout",
     "output_type": "stream",
     "text": [
      "\n",
      "Finding 2-digit primes...\n",
      "\n",
      "Sample primes:\n",
      "1. 11\n",
      "2. 13\n",
      "3. 17\n",
      "4. 19\n",
      "5. 23\n",
      "6. 29\n",
      "7. 31\n",
      "8. 37\n",
      "9. 41\n",
      "10. 43\n"
     ]
    },
    {
     "name": "stdin",
     "output_type": "stream",
     "text": [
      "\n",
      "Choose prime (1-10) or enter custom:  5\n"
     ]
    },
    {
     "name": "stdout",
     "output_type": "stream",
     "text": [
      "\n",
      "Primitive roots for 23:\n",
      "[5, 7, 10, 11, 14, 15, 17, 19, 20, 21] \n"
     ]
    },
    {
     "name": "stdin",
     "output_type": "stream",
     "text": [
      "Choose primitive root:  5\n"
     ]
    },
    {
     "name": "stdout",
     "output_type": "stream",
     "text": [
      "\n",
      "=== Private Keys ===\n"
     ]
    },
    {
     "name": "stdin",
     "output_type": "stream",
     "text": [
      "Enter Ram's key (1-21):  4\n",
      "Enter Shyam's key (1-21):  3\n"
     ]
    },
    {
     "name": "stdout",
     "output_type": "stream",
     "text": [
      "\n",
      "=== Public Keys ===\n",
      "Ram's public key: 4\n",
      "Shyam's public key: 10\n",
      "\n",
      "=== Shared Secret ===\n",
      "Ram's secret: 18\n",
      "Shyam's secret: 18\n",
      "\n",
      "Key exchange successful!\n"
     ]
    },
    {
     "name": "stdin",
     "output_type": "stream",
     "text": [
      "\n",
      "Test interception? (y/n):  y\n"
     ]
    },
    {
     "name": "stdout",
     "output_type": "stream",
     "text": [
      "\n",
      "=== Interception Attempt ===\n"
     ]
    },
    {
     "name": "stdin",
     "output_type": "stream",
     "text": [
      "Enter Hari's key (1-21):  3\n"
     ]
    },
    {
     "name": "stdout",
     "output_type": "stream",
     "text": [
      "\n",
      "Hari intercepts and sends forged key, i.e. 10, to both Ram and Shyam.\n",
      "\n",
      "Ram computes 18 as secret using the forged key.\n",
      "Shyam computes 11 as secret using the forged key.\n",
      "\n",
      "Hari computes 18 as Ram's secret and 11 as Shyams's secret using the forged key.\n",
      "The forged key leads Ram and Shyam to compute different shared secrets.\n",
      "Still neither Ram nor Shyam is aware that they are communicating through Hari.\n",
      "The core vulnerability lies in the lack of authentication.\n",
      "Without authentication of the parties involved, Hari can easily impersonate one of the parties and establish separate keys with both.\n",
      "This allows him to intercept and manipulate and tamper with the communications.\n",
      "However, this mismatch in shared secrets still could cause errors in encryption and decryption, making Ram and Shyam suspect of an attack.\n",
      "\n",
      "Hence, Interception by Hari MAY fail!\n"
     ]
    }
   ],
   "source": [
    "\"\"\"Orchestrating the complete protocol demonstration\"\"\"\n",
    "def diffie_hellman_exchange():\n",
    "    print(\"\\n=== Diffie-Hellman Key Exchange ===\")\n",
    "    \n",
    "    # Getting prime parameters\n",
    "    n = get_valid_input(f\"\\nEnter prime digits ({MIN_DIGITS}-{MAX_DIGITS}): \", MIN_DIGITS, MAX_DIGITS)\n",
    "    p = get_prime_candidate(n)\n",
    "    \n",
    "    # Finding primitive roots\n",
    "    roots = find_primitive_roots(p)\n",
    "    if not roots:\n",
    "        print(f\"\\nNo primitive roots found for {p}!\")\n",
    "        return\n",
    "    \n",
    "    g = get_primitive_root(p, roots)\n",
    "    \n",
    "    params = DHParameters(p, g)\n",
    "    \n",
    "    # Performing key exchange\n",
    "    y1, y2, k1, k2 = perform_key_exchange(params)\n",
    "    \n",
    "    print(\"\\n=== Public Keys ===\")\n",
    "    print(f\"Ram's public key: {y1}\")\n",
    "    print(f\"Shyam's public key: {y2}\")\n",
    "    \n",
    "    print(\"\\n=== Shared Secret ===\")\n",
    "    print(f\"Ram's secret: {k1}\")\n",
    "    print(f\"Shyam's secret: {k2}\")\n",
    "    \n",
    "    if k1 == k2:\n",
    "        print(\"\\nKey exchange successful!\")\n",
    "        \n",
    "        # Get valid y/n input for interception test\n",
    "        while True:\n",
    "            test_intercept = input(\"\\nTest interception? (y/n): \").lower().strip()\n",
    "            if test_intercept == 'y':\n",
    "                simulate_interception(params, y1, y2)\n",
    "                break\n",
    "            elif test_intercept == 'n':\n",
    "                print(\"Simulation ended successfully.\")\n",
    "                break\n",
    "            else:\n",
    "                print(\"Please enter only 'y' or 'n'\")\n",
    "    else:\n",
    "        print(\"\\nKey exchange failed!\")\n",
    "\n",
    "if __name__ == \"__main__\":\n",
    "    diffie_hellman_exchange()"
   ]
  },
  {
   "cell_type": "code",
   "execution_count": null,
   "id": "862722ad-0821-4b7e-b600-190237e81b77",
   "metadata": {},
   "outputs": [],
   "source": []
  }
 ],
 "metadata": {
  "kernelspec": {
   "display_name": "Python 3 (ipykernel)",
   "language": "python",
   "name": "python3"
  },
  "language_info": {
   "codemirror_mode": {
    "name": "ipython",
    "version": 3
   },
   "file_extension": ".py",
   "mimetype": "text/x-python",
   "name": "python",
   "nbconvert_exporter": "python",
   "pygments_lexer": "ipython3",
   "version": "3.12.9"
  }
 },
 "nbformat": 4,
 "nbformat_minor": 5
}
